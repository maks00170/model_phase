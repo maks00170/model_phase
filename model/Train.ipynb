{
 "cells": [
  {
   "cell_type": "code",
   "execution_count": 5,
   "id": "588cc8bd-df87-4af7-ad20-f7f856cde31e",
   "metadata": {
    "tags": []
   },
   "outputs": [],
   "source": [
    "# !pip install --upgrade pip\n",
    "# !pip install musdb\n",
    "# !pip install julius\n",
    "# !pip install lameenc\n",
    "# !pip install einops\n",
    "# !pip install omegaconf\n",
    "# !pip install diffq\n",
    "# !pip install openunmix\n",
    "# !pip install pytorch_lightning \n",
    "# !pip install torch --upgrade\n",
    "# !pip install torchaudio \n",
    "# !pip install torchaudio --upgrade"
   ]
  },
  {
   "cell_type": "code",
   "execution_count": 6,
   "id": "9f8318f4-3b2c-4e3c-85db-88cc5d0c4966",
   "metadata": {},
   "outputs": [],
   "source": [
    "from wav import get_datasets\n",
    "import augment\n",
    "import distrib\n",
    "from demucs_p import demucs_phase"
   ]
  },
  {
   "cell_type": "code",
   "execution_count": 7,
   "id": "dd629957-fd2d-403d-882f-790290336c6f",
   "metadata": {},
   "outputs": [],
   "source": [
    "import torch\n",
    "import torchaudio\n",
    "import torch.nn as nn\n",
    "import pytorch_lightning as pl\n",
    "from pytorch_lightning.callbacks import EarlyStopping\n",
    "from torchmetrics.functional.audio import signal_distortion_ratio"
   ]
  },
  {
   "cell_type": "code",
   "execution_count": 33,
   "id": "7234d508-fb1a-4005-8e52-d25a262163bf",
   "metadata": {},
   "outputs": [],
   "source": [
    "train_set = get_datasets(data_type = 'train', metadata = './metadata')\n",
    "test_set = get_datasets(data_type = 'test', metadata = './metadata1')"
   ]
  },
  {
   "cell_type": "code",
   "execution_count": 16,
   "id": "c8076418-feab-4f3c-98ef-151714564889",
   "metadata": {},
   "outputs": [],
   "source": [
    "class Lit_phase(pl.LightningModule):\n",
    "    def __init__(self, \n",
    "                train_set,\n",
    "                valid_set,\n",
    "                batch_size = 8,\n",
    "                num_workers = 1):\n",
    "        super().__init__()\n",
    "        self.model = demucs_phase(sources = ['bass', 'acap', 'other', 'drums'], use_train_segment=False)\n",
    "        self.criterion = nn.L1Loss()\n",
    "        \n",
    "        self.augment = [augment.Shift(shift=int(44100 * 1),\n",
    "                                  same=True)]\n",
    "        self.augment += [augment.FlipChannels(), augment.FlipSign()]\n",
    "        self.augment = torch.nn.Sequential(*self.augment)\n",
    "        \n",
    "        self._train_set = train_set\n",
    "        self._val_set = valid_set\n",
    "        self.batch_size = batch_size\n",
    "        self.num_workers = num_workers\n",
    "        \n",
    "    def forward(self, x):\n",
    "        x = self.model(x)\n",
    "        return x\n",
    "    \n",
    "    def training_step(self, batch, batch_idx):\n",
    "\n",
    "        source = batch\n",
    "        source = self.augment(source)\n",
    "        mix = source.sum(dim=1)\n",
    "        \n",
    "        source_predict = self.model(mix)\n",
    "        \n",
    "        loss = self.criterion(source_predict, source)\n",
    "        self.log(\"train_loss\", loss, on_epoch=True, prog_bar=True)\n",
    "                      \n",
    "        return loss\n",
    "    \n",
    "    def validation_step(self, batch, batch_idx):\n",
    "        source = batch\n",
    "        mix = source.sum(dim=1)\n",
    "        \n",
    "        source_predict = self.model(mix)\n",
    "        \n",
    "        loss = self.criterion(source_predict, source)\n",
    "        self.log(\"valid_loss\", loss, on_epoch=True, prog_bar=True)\n",
    "        \n",
    "    def train_dataloader(self):\n",
    "        return torch.utils.data.DataLoader(self._train_set, batch_size=self.batch_size, shuffle=True, drop_last=True, num_workers = self.num_workers)\n",
    "    \n",
    "    def val_dataloader(self):\n",
    "        return torch.utils.data.DataLoader(self._val_set, batch_size=self.batch_size, shuffle=False, num_workers = self.num_workers)\n",
    "    \n",
    "    def configure_optimizers(self):\n",
    "        optimizer = torch.optim.Adam(self.parameters(), lr=3e-4)\n",
    "        return optimizer"
   ]
  },
  {
   "cell_type": "code",
   "execution_count": 17,
   "id": "a864fa74-b92b-4a52-b23a-6bd2987de65a",
   "metadata": {},
   "outputs": [],
   "source": [
    "early_stopping = EarlyStopping(\n",
    "    monitor=\"val_loss\",\n",
    "    min_delta=0.0001,\n",
    "    patience=5\n",
    ")"
   ]
  },
  {
   "cell_type": "code",
   "execution_count": 18,
   "id": "14421811-d145-4249-8fd4-e0c73d764668",
   "metadata": {},
   "outputs": [],
   "source": [
    "model_phase = Lit_phase(train_set = train_set, valid_set = test_set, num_workers = 15, batch_size = 16)"
   ]
  },
  {
   "cell_type": "code",
   "execution_count": 20,
   "id": "d7a5cbb9-0a53-4f6a-b342-3598ac3118d2",
   "metadata": {},
   "outputs": [],
   "source": [
    "# trainer = pl.Trainer(accelerator='gpu',\n",
    "#                      devices='auto',\n",
    "#                     max_epochs = 1000,\n",
    "#                     callbacks=[early_stopping]#,\n",
    "#                     #strategy = 'ddp_notebook'\n",
    "#                     )"
   ]
  },
  {
   "cell_type": "code",
   "execution_count": 15,
   "id": "40dbe3b0-a78e-4514-a20a-93929ecc3a81",
   "metadata": {},
   "outputs": [],
   "source": [
    "# trainer.fit(model=model_phase)"
   ]
  },
  {
   "cell_type": "code",
   "execution_count": null,
   "id": "7e1d34bc-31b9-468e-97a1-6ebc3033a973",
   "metadata": {},
   "outputs": [],
   "source": []
  }
 ],
 "metadata": {
  "kernelspec": {
   "display_name": "Python 3 (ipykernel)",
   "language": "python",
   "name": "python3"
  },
  "language_info": {
   "codemirror_mode": {
    "name": "ipython",
    "version": 3
   },
   "file_extension": ".py",
   "mimetype": "text/x-python",
   "name": "python",
   "nbconvert_exporter": "python",
   "pygments_lexer": "ipython3",
   "version": "3.10.6"
  }
 },
 "nbformat": 4,
 "nbformat_minor": 5
}
