{
 "cells": [
  {
   "cell_type": "code",
   "execution_count": 1,
   "id": "b84bf335",
   "metadata": {},
   "outputs": [],
   "source": [
    "import torch\n",
    "import torchaudio\n",
    "import torch.nn as nn"
   ]
  },
  {
   "cell_type": "code",
   "execution_count": 2,
   "id": "490cfd73",
   "metadata": {},
   "outputs": [],
   "source": [
    "import torchaudio\n",
    "from torchaudio.utils import download_asset\n",
    "from IPython.display import Audio"
   ]
  },
  {
   "cell_type": "code",
   "execution_count": 3,
   "id": "5ba7f794",
   "metadata": {},
   "outputs": [],
   "source": [
    "SAMPLE_SONG = download_asset(\"tutorial-assets/hdemucs_mix.wav\")\n",
    "waveform, sample_rate = torchaudio.load(SAMPLE_SONG)  "
   ]
  },
  {
   "cell_type": "code",
   "execution_count": 40,
   "id": "b99fe38e",
   "metadata": {},
   "outputs": [],
   "source": [
    "waveform = waveform[:44100*1,:44100*5]"
   ]
  },
  {
   "cell_type": "code",
   "execution_count": 4,
   "id": "f1e1af37",
   "metadata": {},
   "outputs": [],
   "source": [
    "from loss import MultiResSpecLoss, Stft"
   ]
  },
  {
   "cell_type": "code",
   "execution_count": 5,
   "id": "d98a2878",
   "metadata": {},
   "outputs": [],
   "source": [
    "criterion_2 = MultiResSpecLoss(factor = 500,\n",
    "                               f_complex = 500,\n",
    "                               gamma = 0.3,\n",
    "                               n_ffts = [256, 4096])"
   ]
  },
  {
   "cell_type": "code",
   "execution_count": 6,
   "id": "6df2f9e6",
   "metadata": {},
   "outputs": [
    {
     "data": {
      "text/plain": [
       "tensor(24.3652)"
      ]
     },
     "execution_count": 6,
     "metadata": {},
     "output_type": "execute_result"
    }
   ],
   "source": [
    "criterion_2(waveform[None], waveform[None]+1)"
   ]
  },
  {
   "cell_type": "code",
   "execution_count": 5,
   "id": "11b392cd",
   "metadata": {},
   "outputs": [
    {
     "name": "stdout",
     "output_type": "stream",
     "text": [
      "Setting up [LPIPS] perceptual loss: trunk [vgg], v[0.1], spatial [off]\n"
     ]
    },
    {
     "name": "stderr",
     "output_type": "stream",
     "text": [
      "C:\\Users\\Максим\\venv_vk\\lib\\site-packages\\torchvision\\models\\_utils.py:208: UserWarning: The parameter 'pretrained' is deprecated since 0.13 and may be removed in the future, please use 'weights' instead.\n",
      "  warnings.warn(\n",
      "C:\\Users\\Максим\\venv_vk\\lib\\site-packages\\torchvision\\models\\_utils.py:223: UserWarning: Arguments other than a weight enum or `None` for 'weights' are deprecated since 0.13 and may be removed in the future. The current behavior is equivalent to passing `weights=VGG16_Weights.IMAGENET1K_V1`. You can also use `weights=VGG16_Weights.DEFAULT` to get the most up-to-date weights.\n",
      "  warnings.warn(msg)\n"
     ]
    },
    {
     "name": "stdout",
     "output_type": "stream",
     "text": [
      "Loading model from: C:\\Users\\Максим\\venv_vk\\lib\\site-packages\\lpips\\weights\\v0.1\\vgg.pth\n"
     ]
    }
   ],
   "source": [
    "import lpips\n",
    "loss_fn = lpips.LPIPS(net='vgg')"
   ]
  },
  {
   "cell_type": "code",
   "execution_count": 7,
   "id": "7ef594b8",
   "metadata": {},
   "outputs": [],
   "source": [
    "for param in loss_fn.parameters():\n",
    "    param.requires_grad = False"
   ]
  },
  {
   "cell_type": "code",
   "execution_count": 6,
   "id": "b9e4e972",
   "metadata": {},
   "outputs": [
    {
     "data": {
      "text/plain": [
       "['L',\n",
       " 'T_destination',\n",
       " '__annotations__',\n",
       " '__call__',\n",
       " '__class__',\n",
       " '__delattr__',\n",
       " '__dict__',\n",
       " '__dir__',\n",
       " '__doc__',\n",
       " '__eq__',\n",
       " '__format__',\n",
       " '__ge__',\n",
       " '__getattr__',\n",
       " '__getattribute__',\n",
       " '__gt__',\n",
       " '__hash__',\n",
       " '__init__',\n",
       " '__init_subclass__',\n",
       " '__le__',\n",
       " '__lt__',\n",
       " '__module__',\n",
       " '__ne__',\n",
       " '__new__',\n",
       " '__reduce__',\n",
       " '__reduce_ex__',\n",
       " '__repr__',\n",
       " '__setattr__',\n",
       " '__setstate__',\n",
       " '__sizeof__',\n",
       " '__str__',\n",
       " '__subclasshook__',\n",
       " '__weakref__',\n",
       " '_apply',\n",
       " '_backward_hooks',\n",
       " '_backward_pre_hooks',\n",
       " '_buffers',\n",
       " '_call_impl',\n",
       " '_forward_hooks',\n",
       " '_forward_hooks_with_kwargs',\n",
       " '_forward_pre_hooks',\n",
       " '_forward_pre_hooks_with_kwargs',\n",
       " '_get_backward_hooks',\n",
       " '_get_backward_pre_hooks',\n",
       " '_get_name',\n",
       " '_is_full_backward_hook',\n",
       " '_load_from_state_dict',\n",
       " '_load_state_dict_post_hooks',\n",
       " '_load_state_dict_pre_hooks',\n",
       " '_maybe_warn_non_full_backward_hook',\n",
       " '_modules',\n",
       " '_named_members',\n",
       " '_non_persistent_buffers_set',\n",
       " '_parameters',\n",
       " '_register_load_state_dict_pre_hook',\n",
       " '_register_state_dict_hook',\n",
       " '_replicate_for_data_parallel',\n",
       " '_save_to_state_dict',\n",
       " '_slow_forward',\n",
       " '_state_dict_hooks',\n",
       " '_state_dict_pre_hooks',\n",
       " '_version',\n",
       " 'add_module',\n",
       " 'apply',\n",
       " 'bfloat16',\n",
       " 'buffers',\n",
       " 'call_super_init',\n",
       " 'children',\n",
       " 'chns',\n",
       " 'cpu',\n",
       " 'cuda',\n",
       " 'double',\n",
       " 'dump_patches',\n",
       " 'eval',\n",
       " 'extra_repr',\n",
       " 'float',\n",
       " 'forward',\n",
       " 'get_buffer',\n",
       " 'get_extra_state',\n",
       " 'get_parameter',\n",
       " 'get_submodule',\n",
       " 'half',\n",
       " 'ipu',\n",
       " 'lin0',\n",
       " 'lin1',\n",
       " 'lin2',\n",
       " 'lin3',\n",
       " 'lin4',\n",
       " 'lins',\n",
       " 'load_state_dict',\n",
       " 'lpips',\n",
       " 'modules',\n",
       " 'named_buffers',\n",
       " 'named_children',\n",
       " 'named_modules',\n",
       " 'named_parameters',\n",
       " 'net',\n",
       " 'parameters',\n",
       " 'pnet_rand',\n",
       " 'pnet_tune',\n",
       " 'pnet_type',\n",
       " 'register_backward_hook',\n",
       " 'register_buffer',\n",
       " 'register_forward_hook',\n",
       " 'register_forward_pre_hook',\n",
       " 'register_full_backward_hook',\n",
       " 'register_full_backward_pre_hook',\n",
       " 'register_load_state_dict_post_hook',\n",
       " 'register_module',\n",
       " 'register_parameter',\n",
       " 'register_state_dict_pre_hook',\n",
       " 'requires_grad_',\n",
       " 'scaling_layer',\n",
       " 'set_extra_state',\n",
       " 'share_memory',\n",
       " 'spatial',\n",
       " 'state_dict',\n",
       " 'to',\n",
       " 'to_empty',\n",
       " 'train',\n",
       " 'training',\n",
       " 'type',\n",
       " 'version',\n",
       " 'xpu',\n",
       " 'zero_grad']"
      ]
     },
     "execution_count": 6,
     "metadata": {},
     "output_type": "execute_result"
    }
   ],
   "source": [
    "loss_fn()"
   ]
  },
  {
   "cell_type": "code",
   "execution_count": null,
   "id": "b1d93ced",
   "metadata": {},
   "outputs": [],
   "source": [
    "#!pip install lpips"
   ]
  },
  {
   "cell_type": "code",
   "execution_count": 12,
   "id": "3ce4ca7e",
   "metadata": {},
   "outputs": [],
   "source": [
    "from torch import Tensor"
   ]
  },
  {
   "cell_type": "code",
   "execution_count": 47,
   "id": "54ca01df",
   "metadata": {},
   "outputs": [],
   "source": [
    "class PerceptualLoss(nn.Module):\n",
    "    def __init__(self, n_fft, net='vgg'):\n",
    "        super().__init__()\n",
    "        self.stft = Stft(n_fft)\n",
    "        self.loss = lpips.LPIPS(net=net)\n",
    "        for param in self.loss.parameters():\n",
    "            param.requires_grad = False\n",
    "            \n",
    "    def _reshape_source(self, x, source):\n",
    "        B, S, C, Fr, T = x.shape\n",
    "        x = torch.concat([x[:,sourc], x[:,sourc].mean(dim=1).view(B,1,Fr,T)], dim=1)\n",
    "        return x\n",
    "    \n",
    "    def forward(self, inputs: Tensor, target: Tensor) -> Tensor:\n",
    "        input_spec = self.stft(inputs)\n",
    "        target_spec = self.stft(target)\n",
    "        drums = self.loss(self._reshape_source(input_spec.abs(), 0), self._reshape_source(target_spec.abs(), 0))\n",
    "        bass = self.loss(self._reshape_source(input_spec.abs(), 1), self._reshape_source(target_spec.abs(), 1))\n",
    "        other = self.loss(self._reshape_source(input_spec.abs(), 2), self._reshape_source(target_spec.abs(), 2))\n",
    "        vocals = self.loss(self._reshape_source(input_spec.abs(), 3), self._reshape_source(target_spec.abs(), 3))\n",
    "        \n",
    "        return drums.sum(), bass.sum(), other.sum(), vocals.sum()"
   ]
  },
  {
   "cell_type": "code",
   "execution_count": 48,
   "id": "76d01d5f",
   "metadata": {},
   "outputs": [
    {
     "name": "stdout",
     "output_type": "stream",
     "text": [
      "Setting up [LPIPS] perceptual loss: trunk [vgg], v[0.1], spatial [off]\n",
      "Loading model from: C:\\Users\\Максим\\venv_vk\\lib\\site-packages\\lpips\\weights\\v0.1\\vgg.pth\n"
     ]
    }
   ],
   "source": [
    "loss = PerceptualLoss(n_fft = 4096)\n"
   ]
  },
  {
   "cell_type": "code",
   "execution_count": 49,
   "id": "93c626fa",
   "metadata": {},
   "outputs": [],
   "source": [
    "data = torch.concat( [waveform[None],waveform[None],waveform[None]], dim=0)\n"
   ]
  },
  {
   "cell_type": "code",
   "execution_count": 50,
   "id": "4b96287e",
   "metadata": {},
   "outputs": [
    {
     "data": {
      "text/plain": [
       "torch.Size([3, 2049, 216])"
      ]
     },
     "execution_count": 50,
     "metadata": {},
     "output_type": "execute_result"
    }
   ],
   "source": [
    "loss(data,data).shape"
   ]
  },
  {
   "cell_type": "code",
   "execution_count": 51,
   "id": "739adfe8",
   "metadata": {},
   "outputs": [
    {
     "data": {
      "text/plain": [
       "torch.Size([3, 220500])"
      ]
     },
     "execution_count": 51,
     "metadata": {},
     "output_type": "execute_result"
    }
   ],
   "source": [
    "data.shape"
   ]
  },
  {
   "cell_type": "code",
   "execution_count": 38,
   "id": "fd66a0e4",
   "metadata": {},
   "outputs": [
    {
     "data": {
      "text/plain": [
       "torch.Size([1, 2, 7560512])"
      ]
     },
     "execution_count": 38,
     "metadata": {},
     "output_type": "execute_result"
    }
   ],
   "source": [
    "waveform[None].shape"
   ]
  },
  {
   "cell_type": "code",
   "execution_count": 54,
   "id": "f6b4e7c5",
   "metadata": {},
   "outputs": [
    {
     "ename": "ModuleNotFoundError",
     "evalue": "No module named 'wav'",
     "output_type": "error",
     "traceback": [
      "\u001b[1;31m---------------------------------------------------------------------------\u001b[0m",
      "\u001b[1;31mModuleNotFoundError\u001b[0m                       Traceback (most recent call last)",
      "Cell \u001b[1;32mIn[54], line 1\u001b[0m\n\u001b[1;32m----> 1\u001b[0m \u001b[38;5;28;01mfrom\u001b[39;00m \u001b[38;5;21;01mwav\u001b[39;00m \u001b[38;5;28;01mimport\u001b[39;00m get_datasets\n\u001b[0;32m      2\u001b[0m \u001b[38;5;28;01mimport\u001b[39;00m \u001b[38;5;21;01maugment\u001b[39;00m\n\u001b[0;32m      3\u001b[0m \u001b[38;5;28;01mimport\u001b[39;00m \u001b[38;5;21;01mdistrib\u001b[39;00m\n",
      "\u001b[1;31mModuleNotFoundError\u001b[0m: No module named 'wav'"
     ]
    }
   ],
   "source": [
    "from wav import get_datasets\n",
    "import augment\n",
    "import distrib"
   ]
  },
  {
   "cell_type": "code",
   "execution_count": 63,
   "id": "9c99a886",
   "metadata": {},
   "outputs": [
    {
     "ename": "ImportError",
     "evalue": "attempted relative import with no known parent package",
     "output_type": "error",
     "traceback": [
      "\u001b[1;31m---------------------------------------------------------------------------\u001b[0m",
      "\u001b[1;31mImportError\u001b[0m                               Traceback (most recent call last)",
      "Cell \u001b[1;32mIn[63], line 1\u001b[0m\n\u001b[1;32m----> 1\u001b[0m \u001b[38;5;28;01mfrom\u001b[39;00m \u001b[38;5;21;01m.\u001b[39;00m\u001b[38;5;21;01mmodel\u001b[39;00m\u001b[38;5;21;01m.\u001b[39;00m\u001b[38;5;21;01mwav\u001b[39;00m \u001b[38;5;28;01mimport\u001b[39;00m get_datasets\n",
      "\u001b[1;31mImportError\u001b[0m: attempted relative import with no known parent package"
     ]
    }
   ],
   "source": [
    "from model.wav import get_datasets"
   ]
  },
  {
   "cell_type": "code",
   "execution_count": 62,
   "id": "53fe51bd",
   "metadata": {},
   "outputs": [
    {
     "name": "stdout",
     "output_type": "stream",
     "text": [
      " ’®¬ ў гбва®©бвўҐ C Ё¬ҐҐв ¬ҐвЄг OS\n",
      " ‘ҐаЁ©­л© ­®¬Ґа в®¬ : 4AD1-C5F7\n",
      "\n",
      " ‘®¤Ґа¦Ё¬®Ґ Ї ЇЄЁ C:\\Users\\Њ ЄбЁ¬\\venv_vk\\VK_PROJECT\\losses\n",
      "\n",
      "12.04.2023  21:45    <DIR>          .\n",
      "12.04.2023  21:45    <DIR>          ..\n",
      "12.04.2023  21:13    <DIR>          .ipynb_checkpoints\n",
      "12.04.2023  21:23    <DIR>          __pycache__\n",
      "12.04.2023  21:12             2я647 loss.py\n",
      "31.03.2023  23:32    <DIR>          musdb18hq\n",
      "12.04.2023  21:45             6я408 Test.ipynb\n",
      "12.04.2023  21:18               574 utils.py\n",
      "               3 д ©«®ў          9я629 Ў ©в\n",
      "               5 Ї Ї®Є  21я124я476я928 Ў ©в бў®Ў®¤­®\n"
     ]
    }
   ],
   "source": [
    "ls"
   ]
  },
  {
   "cell_type": "code",
   "execution_count": null,
   "id": "8f7466d4",
   "metadata": {},
   "outputs": [],
   "source": []
  }
 ],
 "metadata": {
  "kernelspec": {
   "display_name": "Python 3 (ipykernel)",
   "language": "python",
   "name": "python3"
  },
  "language_info": {
   "codemirror_mode": {
    "name": "ipython",
    "version": 3
   },
   "file_extension": ".py",
   "mimetype": "text/x-python",
   "name": "python",
   "nbconvert_exporter": "python",
   "pygments_lexer": "ipython3",
   "version": "3.10.6"
  }
 },
 "nbformat": 4,
 "nbformat_minor": 5
}
